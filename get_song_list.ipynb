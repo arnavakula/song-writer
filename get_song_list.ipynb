{
 "cells": [
  {
   "cell_type": "code",
   "execution_count": 10,
   "metadata": {},
   "outputs": [],
   "source": [
    "import spotipy as sp\n",
    "from spotipy.oauth2 import SpotifyClientCredentials"
   ]
  },
  {
   "cell_type": "code",
   "execution_count": 42,
   "metadata": {},
   "outputs": [],
   "source": [
    "spot = sp.Spotify(client_credentials_manager=sp.oauth2.SpotifyClientCredentials(client_id='', client_secret=''))"
   ]
  },
  {
   "cell_type": "code",
   "execution_count": 43,
   "metadata": {},
   "outputs": [],
   "source": [
    "artist = 'frank ocean'\n",
    "results = spot.search(q=f'artist:{artist}', type='artist')"
   ]
  },
  {
   "cell_type": "code",
   "execution_count": 38,
   "metadata": {},
   "outputs": [],
   "source": [
    "uri = results['artists']['items'][0]['uri']"
   ]
  },
  {
   "cell_type": "code",
   "execution_count": 39,
   "metadata": {},
   "outputs": [
    {
     "name": "stdout",
     "output_type": "stream",
     "text": [
      "Pink + White\n",
      "Lost\n",
      "Novacane\n",
      "Ivy\n",
      "Slide (feat. Frank Ocean & Migos)\n",
      "Thinkin Bout You\n",
      "Nights\n",
      "White Ferrari\n",
      "In My Room\n",
      "Pyramids\n"
     ]
    }
   ],
   "source": [
    "for i in range(10):\n",
    "    print(spot.artist_top_tracks(uri)['tracks'][i]['name'])"
   ]
  },
  {
   "cell_type": "code",
   "execution_count": null,
   "metadata": {},
   "outputs": [],
   "source": []
  }
 ],
 "metadata": {
  "kernelspec": {
   "display_name": "venv",
   "language": "python",
   "name": "python3"
  },
  "language_info": {
   "codemirror_mode": {
    "name": "ipython",
    "version": 3
   },
   "file_extension": ".py",
   "mimetype": "text/x-python",
   "name": "python",
   "nbconvert_exporter": "python",
   "pygments_lexer": "ipython3",
   "version": "3.10.6"
  },
  "orig_nbformat": 4
 },
 "nbformat": 4,
 "nbformat_minor": 2
}
